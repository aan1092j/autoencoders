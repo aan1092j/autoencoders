{
 "cells": [
  {
   "cell_type": "code",
   "execution_count": 2,
   "metadata": {
    "collapsed": false
   },
   "outputs": [],
   "source": [
    "import keras\n",
    "from keras.datasets import mnist"
   ]
  },
  {
   "cell_type": "code",
   "execution_count": 30,
   "metadata": {
    "collapsed": false
   },
   "outputs": [],
   "source": [
    "num_of_classes = 10\n",
    "\n",
    "\n",
    "(x_train, _), (x_test, _) = mnist.load_data()\n",
    "\n",
    "\n",
    "x_train =  x_train/255\n",
    "x_test = x_test/255\n",
    "\n",
    "num_train = x_train.shape[0]\n",
    "num_test = x_test.shape[0]\n",
    "\n",
    "flattened_x_train = x_train.reshape(num_train,-1)\n",
    "flattened_x_test = x_test.reshape(num_test, -1)"
   ]
  },
  {
   "cell_type": "code",
   "execution_count": 31,
   "metadata": {
    "collapsed": false
   },
   "outputs": [],
   "source": [
    "from keras.layers import Dense, Input\n",
    "from keras.models import Sequential\n",
    "\n",
    "model = Sequential()\n",
    "model.add(Dense(units=500, activation='linear'))\n",
    "model.add(Dense(units=784, activation='linear'))"
   ]
  },
  {
   "cell_type": "code",
   "execution_count": 32,
   "metadata": {
    "collapsed": false
   },
   "outputs": [
    {
     "name": "stdout",
     "output_type": "stream",
     "text": [
      "Train on 60000 samples, validate on 10000 samples\n",
      "Epoch 1/10\n",
      "60000/60000 [==============================] - 3s 44us/step - loss: 0.0221 - acc: 0.0131 - val_loss: 0.0089 - val_acc: 0.0132\n",
      "Epoch 2/10\n",
      "60000/60000 [==============================] - 2s 41us/step - loss: 0.0073 - acc: 0.0171 - val_loss: 0.0070 - val_acc: 0.0167\n",
      "Epoch 3/10\n",
      "60000/60000 [==============================] - 2s 41us/step - loss: 0.0052 - acc: 0.0202 - val_loss: 0.0043 - val_acc: 0.0147\n",
      "Epoch 4/10\n",
      "60000/60000 [==============================] - 2s 42us/step - loss: 0.0043 - acc: 0.0192 - val_loss: 0.0042 - val_acc: 0.0204\n",
      "Epoch 5/10\n",
      "60000/60000 [==============================] - 2s 40us/step - loss: 0.0037 - acc: 0.0201 - val_loss: 0.0028 - val_acc: 0.0184\n",
      "Epoch 6/10\n",
      "60000/60000 [==============================] - 2s 39us/step - loss: 0.0033 - acc: 0.0213 - val_loss: 0.0037 - val_acc: 0.0228\n",
      "Epoch 7/10\n",
      "60000/60000 [==============================] - 3s 44us/step - loss: 0.0030 - acc: 0.0221 - val_loss: 0.0031 - val_acc: 0.0208\n",
      "Epoch 8/10\n",
      "60000/60000 [==============================] - 2s 42us/step - loss: 0.0028 - acc: 0.0222 - val_loss: 0.0029 - val_acc: 0.0198\n",
      "Epoch 9/10\n",
      "60000/60000 [==============================] - 2s 41us/step - loss: 0.0027 - acc: 0.0221 - val_loss: 0.0025 - val_acc: 0.0196\n",
      "Epoch 10/10\n",
      "60000/60000 [==============================] - 2s 41us/step - loss: 0.0025 - acc: 0.0229 - val_loss: 0.0034 - val_acc: 0.0231\n"
     ]
    },
    {
     "data": {
      "text/plain": [
       "<keras.callbacks.History at 0x7f3c641f56a0>"
      ]
     },
     "execution_count": 32,
     "metadata": {},
     "output_type": "execute_result"
    }
   ],
   "source": [
    "model.compile(optimizer='rmsprop', loss='mse', metrics=['accuracy'])\n",
    "\n",
    "model.fit(flattened_x_train, flattened_x_train, batch_size=250, epochs=10, validation_data=(flattened_x_test, flattened_x_test))"
   ]
  },
  {
   "cell_type": "code",
   "execution_count": 44,
   "metadata": {
    "collapsed": false
   },
   "outputs": [
    {
     "name": "stdout",
     "output_type": "stream",
     "text": [
      "(784,)\n",
      "(28, 28)\n"
     ]
    },
    {
     "data": {
      "image/png": "[encoded data removed]",
      "text/plain": [
       "<Figure size 432x288 with 1 Axes>"
      ]
     },
     "metadata": {},
     "output_type": "display_data"
    },
    {
     "data": {
      "image/png": "[encoded data removed]",
      "text/plain": [
       "<Figure size 432x288 with 1 Axes>"
      ]
     },
     "metadata": {},
     "output_type": "display_data"
    }
   ],
   "source": [
    "import matplotlib.pyplot as plt\n",
    "\n",
    "print(flattened_x_test[0,:].shape)\n",
    "\n",
    "autoencoded_x = model.predict(flattened_x_test)\n",
    "\n",
    "random_index = 19\n",
    "image = autoencoded_x[random_index, :].reshape(28, 28)*255\n",
    "print(image.shape)\n",
    "\n",
    "plt.imshow(image)\n",
    "plt.show()\n",
    "\n",
    "plt.imshow(flattened_x_test[random_index,:].reshape(28,28))\n",
    "plt.show()"
   ]
  },
  {
   "cell_type": "code",
   "execution_count": null,
   "metadata": {
    "collapsed": true
   },
   "outputs": [],
   "source": []
  }
 ],
 "metadata": {
  "kernelspec": {
   "display_name": "Python 3 (General DS)",
   "language": "python",
   "name": "python3"
  },
  "language_info": {
   "codemirror_mode": {
    "name": "ipython",
    "version": 3
   },
   "file_extension": ".py",
   "mimetype": "text/x-python",
   "name": "python",
   "nbconvert_exporter": "python",
   "pygments_lexer": "ipython3",
   "version": "3.6.4"
  }
 },
 "nbformat": 4,
 "nbformat_minor": 2
}
